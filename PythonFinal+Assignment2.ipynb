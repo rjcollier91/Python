{
 "cells": [
  {
   "cell_type": "markdown",
   "metadata": {},
   "source": [
    "# Analyzing and extending the Diamond and Dybvig model with some insights from Behavioural Economics\"\n",
    "   "
   ]
  },
  {
   "cell_type": "markdown",
   "metadata": {},
   "source": [
    "### Final assignment for the Course Applied Economic Analysis, 31/01/2017\n"
   ]
  },
  {
   "cell_type": "markdown",
   "metadata": {},
   "source": [
    "Name | ANR\n",
    "------------ | -------------\n",
    "Ryan Collier | \n",
    "Jan Machacek | \n",
    "Carlotta Varriale | 608931"
   ]
  },
  {
   "cell_type": "markdown",
   "metadata": {},
   "source": [
    "# Motivation\n",
    "\n",
    "We start from the assumptions of the paper by **Diamond and Dybvig** to develop a few extensions to their theoretical model that seem to fit the observed mechanisms of bank runs.\n",
    "Specifically, we considered that some insights from **Behavioral Economics** that use a hyperbolic discounting factor might help to improve the quality of the standard model on bank runs in predicting depositors' behaviour.\n",
    "An improved model of bank runs will make it possible for banks and/or policy makers to act in times of financial distress. Moreover, we decided to use **Python** as the main platform to develop our work because it is a great tool to formalize our mathematical formulations and visually explore our results. \n",
    "We will begin with a description of the standard model by making ad hoc use of variables and constraints to solve the optimization problem of allocation and consumption in different time periods. We will show that banks provide improved distribution efficiency than autarky, but bank runs equilibria are also possible, which are potential catastrophes and much worse than autarky.\n",
    "Then, we will run a simple simulation to explore the relationship between number of withdrawals, probability of bank closing and interest rate charged by banks on deposits.(?)\n",
    "Finally, we introduce the concept of hyperbolic discounting and implement it in the expression of the model,trying to empirically measure the degree of time inconsistency for depositors."
   ]
  },
  {
   "cell_type": "markdown",
   "metadata": {},
   "source": [
    "In this part we run a simple simulation.\n",
    "The original model was written by C. Yenko."
   ]
  },
  {
   "cell_type": "code",
   "execution_count": 88,
   "metadata": {
    "collapsed": true
   },
   "outputs": [],
   "source": [
    "import random\n",
    "import matplotlib.pyplot as plt\n",
    "import plotly.plotly as py\n",
    "from plotly.graph_objs import *\n",
    "import math\n",
    "import sys"
   ]
  },
  {
   "cell_type": "code",
   "execution_count": 89,
   "metadata": {
    "collapsed": true
   },
   "outputs": [],
   "source": [
    "interestRate = 0.2\n",
    "# Some initial interest rate must be set, otherwise the trial would not work. \n",
    "maxWithdrawals = 70\n",
    "# The maximum number of people (out of 100) who may withdraw their money without the bank has to close.\n",
    "numTrials = 100\n",
    "# The total number of simulations made; during each of them the bank either close or not."
   ]
  },
  {
   "cell_type": "markdown",
   "metadata": {},
   "source": [
    "Then we write the general simulation code."
   ]
  },
  {
   "cell_type": "code",
   "execution_count": 90,
   "metadata": {
    "collapsed": false
   },
   "outputs": [],
   "source": [
    "def runTrial(interestRate,maxWithdrawals,initialInvestment):\n",
    "        numWithdrawals = 0\n",
    "        # The initial number of withdrawals is 0. \n",
    "        # It increases by 1 with each person who decides during any round to withdraw.\n",
    "        withdrawParameter = 0\n",
    "        # This parameter increases with every withdrawal. \n",
    "        # Higher the parameter is, higher is the current risk aversion of every person.\n",
    "        peopleList = []\n",
    "        for i in range(0,100):\n",
    "            peopleList.append([random.normalvariate(.5,.5/3),0,i])\n",
    "        # The People List contains personal data of every person out of 100.\n",
    "        # [0] The first number is a random risk parameter with mean=0.5 and SD=(0.5/3).\n",
    "        # [1] The second one determines whether the person has already decided to withdraw (1) or not (0).\n",
    "        # [2] At the third position is \"i\" - a number in range 0-99 which serves as a personal ID.\n",
    "        for roundNum in range (0,3):\n",
    "        # There are 3 rounds of each simulation, in the Diamond&Dybvig paper described as periods T=0,1,2.\n",
    "            if numWithdrawals < maxWithdrawals:\n",
    "            # A condition necessary for each round; if not satisfied the bank has already closed.\n",
    "                for person in peopleList:\n",
    "                    if numWithdrawals < maxWithdrawals:\n",
    "                        if not person[1] == 1:\n",
    "                        # Check if this person has still her investment in bank.\n",
    "                        # I.e. this person has not withdrawn in previous rounds.\n",
    "                            num = random.random()\n",
    "                            # Return a random number in range [0.0, 1.0).\n",
    "                            currentRiskAversionParam = person[0]+withdrawParameter-interestRate\n",
    "                            # It is different for each person because of the random risk parameter.\n",
    "                            # It also varies between rounds as the withdraw parameter may change.\n",
    "                            if num < currentRiskAversionParam:\n",
    "                            # Then this person withdraws.\n",
    "                                numWithdrawals = numWithdrawals + 1\n",
    "                                person[1]=1\n",
    "                                # Ensure this person may not participate in following rounds.\n",
    "                                withdrawParameter = numWithdrawals/100\n",
    "                                # So that the parameter is higher for every following person and round.\n",
    "        if numWithdrawals < maxWithdrawals:\n",
    "            return 0\n",
    "        else:\n",
    "            return 1\n",
    "        # This loop runs after the whole trial (3 rounds with 100 persons).\n",
    "        # The trial counts for 1 in case that the bank had to close during it."
   ]
  },
  {
   "cell_type": "code",
   "execution_count": 82,
   "metadata": {
    "collapsed": false
   },
   "outputs": [],
   "source": [
    "x = []\n",
    "y = []\n",
    "for inc in range(0,100,1):\n",
    "        interestRate = float(inc)/100\n",
    "        # The interest rate gradually increases from 0.00 to 0.99.\n",
    "        closeSum = 0\n",
    "        for i in range(0,numTrials):\n",
    "            closeSum = closeSum + runTrial(interestRate,maxWithdrawals,initialInvestment)\n",
    "            # This variable sums the total number of trials when the bank had to close.\n",
    "        fractionClose = float(closeSum)/numTrials\n",
    "        x.append(interestRate)\n",
    "        y.append(fractionClose)\n",
    "        # Both the interest rate and the fraction of closed banks are added to lists representing x and y axis."
   ]
  },
  {
   "cell_type": "code",
   "execution_count": 83,
   "metadata": {
    "collapsed": false
   },
   "outputs": [
    {
     "data": {
      "image/png": "[encoded data removed]",
      "text/plain": [
       "<matplotlib.figure.Figure at 0xe200208>"
      ]
     },
     "metadata": {},
     "output_type": "display_data"
    }
   ],
   "source": [
    "plt.plot(x,y)\n",
    "plt.xlabel(\"interest Rate\")\n",
    "plt.ylabel(\"Bank closure % (out of 100 trials)\")\n",
    "plt.title(\"interest Rate vs. Bank Closure\")\n",
    "plt.show()"
   ]
  },
  {
   "cell_type": "code",
   "execution_count": 100,
   "metadata": {
    "collapsed": false
   },
   "outputs": [],
   "source": [
    "x = []\n",
    "y = []\n",
    "for inc in range(0,100,1):\n",
    "        interestRate = 0.2\n",
    "        # The interest rate is now fixed again.\n",
    "        maxWithdrawals = inc\n",
    "        # The maximum number of withdrawals gradually icreases from 0 to 99.\n",
    "        closeSum = 0\n",
    "        for i in range(0,numTrials):\n",
    "            closeSum = closeSum + runTrial(interestRate,maxWithdrawals,initialInvestment)\n",
    "        fractionClose = float(closeSum)/numTrials\n",
    "        x.append(maxWithdrawals)\n",
    "        y.append(fractionClose)"
   ]
  },
  {
   "cell_type": "code",
   "execution_count": null,
   "metadata": {
    "collapsed": true
   },
   "outputs": [],
   "source": [
    "plt.plot(x,y)\n",
    "plt.xlabel(\"Maximum of withdrawals until closure\")\n",
    "plt.ylabel(\"Bank closure % (out of 100 trials)\")\n",
    "plt.title(\"Max Withdrawals vs. Bank Closure\")\n",
    "plt.show()"
   ]
  },
  {
   "cell_type": "markdown",
   "metadata": {},
   "source": [
    "## Extending the existing model using some insights from behavioural \n",
    "\n",
    "So far we explained and simulated the standard Diamond and Dybvig model without making any assumption about the discounting technique used.\n",
    "Indeed, the authors do not specify the functional form of their discount factor, and we could assume that they use exponential discounting, the standard model which implies consistent preferences over time. Although this is the most commonly used model in economics because of its simplicity, other models have shown to describe the empirical reality better (Frederik et al., 2002). \n",
    "Exponential discounting assumes that the marginal rate of substitution between consumption in different time periods is only dependent on the time interval between the two time periods. In other words, the discount rate should be constant over time: 1 / (1+K)t. However, empirical studies such as Thaler (1981) show that often people show time inconsistent tendencies. Most people prefer $50 today to $55 tomorrow while preferring $55 in 366 days to $50 in 365 days. Behavioral economists developed the hyperbolic discounting model to incorporate this human tendency for time inconsistent behavior. In this model, the discounting factor depends on both the length of the delay and on the timing of the delay. As a result, hyperbolic discounting discounts future rewards more than exponential discounting for short delays but less for long delays. This makes it more useful to predict actual human behavior.\n",
    "As Diamond and Dybvig (1983) pointed out, bank runs can occur due to self-fulfilling expectations of the behavior of other individuals. Hyperbolic discounting and time inconsistent models try to capture the variations in degree of patience across time. \n",
    "To get a better empirical description of bank runs it might be beneficial to incorporate the hyperbolic discounting assumption. It might be possible that individuals after learning their type at T=1 still behave contrary to their type.\n",
    "Our model should be therefore integrated as follows:\n",
    "\n"
   ]
  },
  {
   "cell_type": "markdown",
   "metadata": {
    "raw_mimetype": "text/latex"
   },
   "source": [
    "Max U(c1;c2) = [tu(c1) + (1 -t)*p*u(c2)]\n",
    "\n",
    "With\n",
    " p=1/1+kD\n",
    " \n",
    "Where k is a parameter that indicates the degree of discounting and D is the number of weeks of delay. This is the hyperbolic discounting factor.\n",
    "On the other hand, the exponential discounting factor used in time consistent models is \n",
    "\n",
    "p'=e^(-kD)"
   ]
  },
  {
   "cell_type": "code",
   "execution_count": 2,
   "metadata": {
    "collapsed": false
   },
   "outputs": [
    {
     "data": {
      "text/plain": [
       "0.5"
      ]
     },
     "execution_count": 2,
     "metadata": {},
     "output_type": "execute_result"
    }
   ],
   "source": [
    "import matplotlib.pyplot as plt\n",
    "%matplotlib inline\n",
    "def hyper_disc(x):\n",
    "    return(1/(1+x))/(1/(1+x-1))\n",
    "hyper_disc(1)"
   ]
  },
  {
   "cell_type": "code",
   "execution_count": 3,
   "metadata": {
    "collapsed": false
   },
   "outputs": [
    {
     "data": {
      "text/plain": [
       "0.6666666666666666"
      ]
     },
     "execution_count": 3,
     "metadata": {},
     "output_type": "execute_result"
    }
   ],
   "source": [
    "hyper_disc(2)"
   ]
  },
  {
   "cell_type": "code",
   "execution_count": 4,
   "metadata": {
    "collapsed": false
   },
   "outputs": [
    {
     "data": {
      "text/plain": [
       "0.9230769230769231"
      ]
     },
     "execution_count": 4,
     "metadata": {},
     "output_type": "execute_result"
    }
   ],
   "source": [
    "hyper_disc(12)"
   ]
  },
  {
   "cell_type": "code",
   "execution_count": 5,
   "metadata": {
    "collapsed": false
   },
   "outputs": [
    {
     "data": {
      "text/plain": [
       "0.975609756097561"
      ]
     },
     "execution_count": 5,
     "metadata": {},
     "output_type": "execute_result"
    }
   ],
   "source": [
    "hyper_disc(40)"
   ]
  },
  {
   "cell_type": "code",
   "execution_count": 20,
   "metadata": {
    "collapsed": true
   },
   "outputs": [],
   "source": [
    "from math import exp\n",
    "def exp_disc(y):\n",
    "    return exp(-y)/exp(-(y-1))"
   ]
  },
  {
   "cell_type": "code",
   "execution_count": 8,
   "metadata": {
    "collapsed": false
   },
   "outputs": [
    {
     "data": {
      "text/plain": [
       "0.36787944117144233"
      ]
     },
     "execution_count": 8,
     "metadata": {},
     "output_type": "execute_result"
    }
   ],
   "source": [
    "exp_disc(1)"
   ]
  },
  {
   "cell_type": "code",
   "execution_count": 9,
   "metadata": {
    "collapsed": false
   },
   "outputs": [
    {
     "data": {
      "text/plain": [
       "0.36787944117144233"
      ]
     },
     "execution_count": 9,
     "metadata": {},
     "output_type": "execute_result"
    }
   ],
   "source": [
    "exp_disc(2)"
   ]
  },
  {
   "cell_type": "code",
   "execution_count": 11,
   "metadata": {
    "collapsed": false
   },
   "outputs": [
    {
     "data": {
      "text/plain": [
       "0.36787944117144233"
      ]
     },
     "execution_count": 11,
     "metadata": {},
     "output_type": "execute_result"
    }
   ],
   "source": [
    "exp_disc(12)"
   ]
  },
  {
   "cell_type": "code",
   "execution_count": 12,
   "metadata": {
    "collapsed": false
   },
   "outputs": [
    {
     "data": {
      "text/plain": [
       "0.36787944117144233"
      ]
     },
     "execution_count": 12,
     "metadata": {},
     "output_type": "execute_result"
    }
   ],
   "source": [
    "exp_disc(40)"
   ]
  },
  {
   "cell_type": "markdown",
   "metadata": {},
   "source": [
    "The discounting factor of next week (n=1) with respect to today(n=0) for the exponential discounting is \n",
    "e^(-1)/e(^-0)=1/e\n",
    "The discounting factor of 12 weeks from now (n=12) with respect to 11 weeks from now (n=11)is \n",
    "e^(-12)/e^(-11)=1/e\n",
    "So this is what we mean by **consistent preferences**: constant delta of discount factor for the same time span (one week)\n",
    "However, with hyperbolic discounting we can see that the discounting factor of next week with respect to today is \n",
    "1/(1+1)/(1/(1)=0,5,\n",
    "while the discounting factor of 12 weeks from now with respect to 11 weeks is (1/13)/(1/12)=12/13=0,92\n",
    "This shows that for low Ds, that is for a short time delay, the discounting factor is similar, but as we increase D, the hyperbolic discounting factor tends to 1, so the present value of a reward in the far future is almost zero according to **hyperbolic discounting**.\n",
    "\n",
    "| weeks | d_exp | d_hyper |\n",
    "|-------|-------|---------|\n",
    "| 1     | 0,367 | 0,5     |\n",
    "| 2     | 0,367 | 0,66    |\n",
    "| 12    | 0,367 | 0,923   |\n",
    "| 40    | 0,367 | 0,975   |\n",
    "\n",
    "\n"
   ]
  },
  {
   "cell_type": "code",
   "execution_count": 22,
   "metadata": {
    "collapsed": false
   },
   "outputs": [
    {
     "ename": "TypeError",
     "evalue": "only length-1 arrays can be converted to Python scalars",
     "output_type": "error",
     "traceback": [
      "\u001b[0;31m---------------------------------------------------------------------------\u001b[0m",
      "\u001b[0;31mTypeError\u001b[0m                                 Traceback (most recent call last)",
      "\u001b[0;32m<ipython-input-22-c94bb8745e84>\u001b[0m in \u001b[0;36m<module>\u001b[0;34m()\u001b[0m\n\u001b[1;32m      4\u001b[0m \u001b[0mx\u001b[0m \u001b[1;33m=\u001b[0m \u001b[0mnp\u001b[0m\u001b[1;33m.\u001b[0m\u001b[0marange\u001b[0m\u001b[1;33m(\u001b[0m\u001b[1;36m0.01\u001b[0m\u001b[1;33m,\u001b[0m \u001b[1;36m5.0\u001b[0m\u001b[1;33m,\u001b[0m \u001b[1;36m0.01\u001b[0m\u001b[1;33m)\u001b[0m\u001b[1;33m\u001b[0m\u001b[0m\n\u001b[1;32m      5\u001b[0m \u001b[1;33m\u001b[0m\u001b[0m\n\u001b[0;32m----> 6\u001b[0;31m \u001b[0my\u001b[0m \u001b[1;33m=\u001b[0m \u001b[0mexp\u001b[0m\u001b[1;33m(\u001b[0m\u001b[1;33m-\u001b[0m\u001b[0mx\u001b[0m\u001b[1;33m)\u001b[0m\u001b[1;33m\u001b[0m\u001b[0m\n\u001b[0m\u001b[1;32m      7\u001b[0m \u001b[1;33m\u001b[0m\u001b[0m\n\u001b[1;32m      8\u001b[0m \u001b[0mfig\u001b[0m\u001b[1;33m,\u001b[0m \u001b[0max\u001b[0m \u001b[1;33m=\u001b[0m \u001b[0mplt\u001b[0m\u001b[1;33m.\u001b[0m\u001b[0msubplots\u001b[0m\u001b[1;33m(\u001b[0m\u001b[1;33m)\u001b[0m\u001b[1;33m\u001b[0m\u001b[0m\n",
      "\u001b[0;31mTypeError\u001b[0m: only length-1 arrays can be converted to Python scalars"
     ]
    }
   ],
   "source": [
    "import matplotlib.pyplot as plt\n",
    "import numpy as np\n",
    "\n",
    "x = np.arange(0.01, 5.0, 0.01)\n",
    "\n",
    "y = exp(-x)\n",
    "\n",
    "fig, ax = plt.subplots()\n",
    "plt.xlim(5, 0)\n",
    "ax.plot(x, y)\n",
    "plt.xlabel('decreasing time (x)')\n",
    "plt.ylabel('present value')\n",
    "plt.title('exponential discounting')\n",
    "plt.grid(True)"
   ]
  },
  {
   "cell_type": "code",
   "execution_count": 15,
   "metadata": {
    "collapsed": false
   },
   "outputs": [
    {
     "data": {
      "image/png": "[encoded data removed]",
      "text/plain": [
       "<matplotlib.figure.Figure at 0x1493e683e80>"
      ]
     },
     "metadata": {},
     "output_type": "display_data"
    }
   ],
   "source": [
    "x = np.arange(0.01, 5.0, 0.01)\n",
    "\n",
    "y = 1/(1+x)\n",
    "\n",
    "fig, ax = plt.subplots()\n",
    "plt.xlim(5, 0)\n",
    "ax.plot(x, y)\n",
    "plt.xlabel('decreasing time (x)')\n",
    "plt.ylabel('present value')\n",
    "plt.title('hyperbolic discounting')\n",
    "plt.grid(True)"
   ]
  },
  {
   "cell_type": "code",
   "execution_count": 16,
   "metadata": {
    "collapsed": false
   },
   "outputs": [
    {
     "data": {
      "image/png": "[encoded data removed]",
      "text/plain": [
       "<matplotlib.figure.Figure at 0x1493ed716a0>"
      ]
     },
     "metadata": {},
     "output_type": "display_data"
    }
   ],
   "source": [
    "import matplotlib.pyplot as plt\n",
    "import numpy as np\n",
    "\n",
    "x = np.arange(0.01, 5.0, 0.01)\n",
    "\n",
    "# calculate the y value for each element of the x vector\n",
    "y = 1/(1+x)\n",
    "\n",
    "fig, ax = plt.subplots()\n",
    "plt.xlim(5, 0)\n",
    "ax.plot(x, y)\n",
    "plt.xlabel('decreasing time (x)')\n",
    "plt.ylabel('present value')\n",
    "plt.title('hyperbolic discounting')\n",
    "plt.grid(True)\n",
    "\n",
    "x = np.arange(0.01, 5.0, 0.01)\n",
    "y = np.exp(-x)\n",
    "plt.plot(x, y)\n",
    "\n",
    "plt.xlim(5, 0) \n",
    "\n",
    "plt.xlabel('decreasing time (x)')\n",
    "plt.ylabel('present value')\n",
    "plt.title('Exponential discounting')\n",
    "plt.grid(True)\n"
   ]
  },
  {
   "cell_type": "markdown",
   "metadata": {},
   "source": [
    "In order to exploit this intuition in relation to bank runs, we decided to run a simple survey, which consisted of two questions/two scenarios.\n",
    "1)\n",
    "You deposited 100 $ in a bank. You hear now rumors that the bank could have liquidity problems in one month from now. You decide to:\n",
    "Do nothing and keep your funds in the bank\n",
    "Withdraw your funds now\n",
    "\n",
    "2) \n",
    "You deposited 100 $ in a bank. You hear now rumors that in 11 months the bank could have liquidity problems in 12 months from now. \n",
    "You decide to:\n",
    "Do nothing and keep your funds in the bank\n",
    "Withdraw your funds now\n",
    "\n",
    "If inconsistent time-impatient individuals tend to have a lower discount factor (higher discount rate) for close future than for far events, we could expect that more people change their decisions and decide to withdraw their savings in the first scenario than in the second scenario.\n"
   ]
  },
  {
   "cell_type": "markdown",
   "metadata": {},
   "source": [
    "In relation to time inconsistency and savings, sometimes people anticipate that they might have time inconsistent behavior and try to insure against it in time 0, for example by keeping their savings in a place that is difficult to reach.\n",
    " In this light, making deposits illiquid by suspending convertibility could therefore be an effective and advisable measure.\n",
    " Indeed, it would serve not only a shelter for financial institutions to avoid bank runs, but it would have the double effect of preventing customers from their own “temptation” to inconsistently revise their decisions and withdraw their funds before they committed to. \n"
   ]
  }
 ],
 "metadata": {
  "anaconda-cloud": {},
  "celltoolbar": "Raw Cell Format",
  "kernelspec": {
   "display_name": "Python [conda root]",
   "language": "python",
   "name": "conda-root-py"
  },
  "language_info": {
   "codemirror_mode": {
    "name": "ipython",
    "version": 3
   },
   "file_extension": ".py",
   "mimetype": "text/x-python",
   "name": "python",
   "nbconvert_exporter": "python",
   "pygments_lexer": "ipython3",
   "version": "3.5.2"
  }
 },
 "nbformat": 4,
 "nbformat_minor": 1
}
