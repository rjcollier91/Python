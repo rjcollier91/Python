{
 "cells": [
  {
   "cell_type": "raw",
   "metadata": {
    "raw_mimetype": "text/latex"
   },
   "source": [
    "\\documentclass{article}\n",
    "\n",
    "\\usepackage{amsmath}\n",
    "\n",
    "\\begin{document}\n",
    "\n",
    "\\begin{align*}\n",
    "  U(c1,c2) &= tu(c1)+(1-t)pu(c2)\\\\\n",
    "  \\rho &= \\frac{1}{1+kD}\\\\\n",
    "  \\rho'(x) &= exp^{-kD} \n",
    "\\end{align*}\n",
    "\n",
    "\\end{document}\n"
   ]
  }
 ],
 "metadata": {
  "anaconda-cloud": {},
  "celltoolbar": "Raw Cell Format",
  "kernelspec": {
   "display_name": "Python [conda root]",
   "language": "python",
   "name": "conda-root-py"
  },
  "language_info": {
   "codemirror_mode": {
    "name": "ipython",
    "version": 3
   },
   "file_extension": ".py",
   "mimetype": "text/x-python",
   "name": "python",
   "nbconvert_exporter": "python",
   "pygments_lexer": "ipython3",
   "version": "3.5.2"
  }
 },
 "nbformat": 4,
 "nbformat_minor": 1
}
