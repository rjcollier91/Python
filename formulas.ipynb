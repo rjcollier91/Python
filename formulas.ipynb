{
 "cells": [
  {
   "cell_type": "markdown",
   "metadata": {},
   "source": [
    "\"cell_type\": \"markdown\",\n",
    "   \"metadata\": {},\n",
    "   \"source\": [\n",
    "    \"disutility of searching $$\\\\gamma\\\\left(s\\\\right)=\\\\frac{1-\\\\left(1-s\\\\right)^{1-\\\\kappa}}{1-\\\\kappa}-s$$\\n\",\n",
    "    \"\\n\",\n",
    "    \"with $ \\\\gamma(0)=0$ ; $ \\\\gamma'(0)=0$; $ \\\\gamma'(s)>0$ ; $ \\\\gamma''(s)>0$ ; $ \\\\lim_{s\\\\to 1} \\\\gamma'(s)=+\\\\infty $\"\n",
    "   ]\n"
   ]
  }
 ],
 "metadata": {
  "anaconda-cloud": {},
  "kernelspec": {
   "display_name": "Python [conda root]",
   "language": "python",
   "name": "conda-root-py"
  },
  "language_info": {
   "codemirror_mode": {
    "name": "ipython",
    "version": 3
   },
   "file_extension": ".py",
   "mimetype": "text/x-python",
   "name": "python",
   "nbconvert_exporter": "python",
   "pygments_lexer": "ipython3",
   "version": "3.5.2"
  }
 },
 "nbformat": 4,
 "nbformat_minor": 1
}
